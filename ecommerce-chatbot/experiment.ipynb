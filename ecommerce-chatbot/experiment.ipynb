{
 "cells": [
  {
   "cell_type": "code",
   "execution_count": 4,
   "metadata": {},
   "outputs": [],
   "source": [
    "import pandas as pd\n",
    "\n",
    "df = pd.read_csv(\"products.csv\")"
   ]
  },
  {
   "cell_type": "code",
   "execution_count": 5,
   "metadata": {},
   "outputs": [
    {
     "data": {
      "text/plain": [
       "(30856, 7)"
      ]
     },
     "execution_count": 5,
     "metadata": {},
     "output_type": "execute_result"
    }
   ],
   "source": [
    "df.shape"
   ]
  },
  {
   "cell_type": "code",
   "execution_count": 6,
   "metadata": {},
   "outputs": [
    {
     "name": "stdout",
     "output_type": "stream",
     "text": [
      "<class 'pandas.core.frame.DataFrame'>\n",
      "RangeIndex: 30856 entries, 0 to 30855\n",
      "Data columns (total 7 columns):\n",
      " #   Column             Non-Null Count  Dtype \n",
      "---  ------             --------------  ----- \n",
      " 0   sku                30856 non-null  object\n",
      " 1   categories         23893 non-null  object\n",
      " 2   name               27100 non-null  object\n",
      " 3   description        23738 non-null  object\n",
      " 4   short_description  15556 non-null  object\n",
      " 5   price              26899 non-null  object\n",
      " 6   url_key            26905 non-null  object\n",
      "dtypes: object(7)\n",
      "memory usage: 1.6+ MB\n"
     ]
    }
   ],
   "source": [
    "df.info()\n"
   ]
  },
  {
   "cell_type": "code",
   "execution_count": 7,
   "metadata": {},
   "outputs": [],
   "source": [
    "# SKU is useless\n",
    "df = df.drop(columns=[\"sku\"])"
   ]
  },
  {
   "cell_type": "code",
   "execution_count": 8,
   "metadata": {},
   "outputs": [],
   "source": [
    "df = df.dropna()\n",
    "df = df.drop_duplicates()"
   ]
  },
  {
   "cell_type": "code",
   "execution_count": 9,
   "metadata": {},
   "outputs": [],
   "source": [
    "df.reset_index(inplace=True, drop=True)\n"
   ]
  },
  {
   "cell_type": "code",
   "execution_count": 10,
   "metadata": {},
   "outputs": [
    {
     "name": "stdout",
     "output_type": "stream",
     "text": [
      "<class 'pandas.core.frame.DataFrame'>\n",
      "RangeIndex: 13424 entries, 0 to 13423\n",
      "Data columns (total 6 columns):\n",
      " #   Column             Non-Null Count  Dtype \n",
      "---  ------             --------------  ----- \n",
      " 0   categories         13424 non-null  object\n",
      " 1   name               13424 non-null  object\n",
      " 2   description        13424 non-null  object\n",
      " 3   short_description  13424 non-null  object\n",
      " 4   price              13424 non-null  object\n",
      " 5   url_key            13424 non-null  object\n",
      "dtypes: object(6)\n",
      "memory usage: 629.4+ KB\n"
     ]
    }
   ],
   "source": [
    "df.info()"
   ]
  },
  {
   "cell_type": "code",
   "execution_count": 11,
   "metadata": {},
   "outputs": [
    {
     "name": "stdout",
     "output_type": "stream",
     "text": [
      "0\n",
      "326\n"
     ]
    }
   ],
   "source": [
    "df['categories'][3343]\n",
    "def split_categories(series : pd.Series) -> pd.DataFrame:\n",
    "    # Remove 'Default Category/', split by '/', and expand into columns\n",
    "    split_cols = series.str.strip(r\"/\").replace(r'^Default Category/', '', regex=True).str.split('/', expand=True)\n",
    "    # Rename columns dynamically as SubCat_1, SubCat_2, ...\n",
    "    split_cols.columns = [f'SubCat_{i+1}' for i in range(split_cols.shape[1])]\n",
    "    return split_cols\n",
    "\n",
    "def split_categories_reverse(series: pd.Series) -> pd.DataFrame:\n",
    "    # Remove 'Default Category/', split by '/', and reverse the list\n",
    "    split_cols = (\n",
    "        series.str.replace(r'^Default Category/', '', regex=True)\n",
    "              .str.split('/')\n",
    "              .apply(lambda parts: parts[::-1])  # reverse the list\n",
    "    )\n",
    "    # Find the max number of subcategories\n",
    "    max_len = split_cols.apply(len).max()\n",
    "    \n",
    "    # Create new DataFrame with reversed subcategories\n",
    "    return pd.DataFrame(split_cols.tolist(), columns=[f'SubCat_{i+1}' for i in range(max_len)])\n",
    "\n",
    "# df['categories'].map(split_categories)\n",
    "subcats = split_categories_reverse(df['categories'])[['SubCat_1', \"SubCat_2\"]]\n",
    "for col in subcats.columns:\n",
    "    # print(col)\n",
    "    # if col.startswith(\"\"):\n",
    "    print(subcats[col].isna().sum())\n"
   ]
  },
  {
   "cell_type": "code",
   "execution_count": 12,
   "metadata": {},
   "outputs": [],
   "source": [
    "\n",
    "df = pd.concat([df, subcats.apply(lambda x: x.str.lower())], axis=1).dropna()"
   ]
  },
  {
   "cell_type": "code",
   "execution_count": 13,
   "metadata": {},
   "outputs": [],
   "source": [
    "final_cats = df.SubCat_2.str.lower().str.replace(\",default category\", \"\").value_counts().iloc[:30].index.tolist()\n",
    "final_cats = [cat.replace(\" \", \"_\") for cat in final_cats]"
   ]
  },
  {
   "cell_type": "code",
   "execution_count": 14,
   "metadata": {},
   "outputs": [],
   "source": [
    "df = df[df[\"SubCat_2\"].str.lower().isin(final_cats)].reset_index(drop=True)"
   ]
  },
  {
   "cell_type": "code",
   "execution_count": 15,
   "metadata": {},
   "outputs": [],
   "source": [
    "df = df.drop([\"categories\", \"SubCat_1\"], axis=1).rename({\"SubCat_2\": \"category\"}, axis=1)"
   ]
  },
  {
   "cell_type": "code",
   "execution_count": 16,
   "metadata": {},
   "outputs": [],
   "source": [
    "# Clean description\n",
    "\n",
    "from bs4 import BeautifulSoup\n",
    "\n",
    "def clean_html(text):\n",
    "    # Parse the HTML content\n",
    "    soup = BeautifulSoup(text, \"html.parser\")\n",
    "    # Extract text from the parsed HTML\n",
    "    return soup.get_text(separator=\"\\n\", strip=True)\n",
    "\n",
    "df['description'] = df['description'].apply(clean_html)\n",
    "df['short_description'] = df['short_description'].apply(clean_html)\n"
   ]
  },
  {
   "cell_type": "code",
   "execution_count": 17,
   "metadata": {},
   "outputs": [],
   "source": [
    "df['url_key'] = \"https://huntersunite.com/\"+ df['url_key']\n"
   ]
  },
  {
   "cell_type": "code",
   "execution_count": 18,
   "metadata": {},
   "outputs": [
    {
     "data": {
      "text/plain": [
       "(7510, 6)"
      ]
     },
     "execution_count": 18,
     "metadata": {},
     "output_type": "execute_result"
    }
   ],
   "source": [
    "df.shape"
   ]
  },
  {
   "cell_type": "code",
   "execution_count": 19,
   "metadata": {},
   "outputs": [],
   "source": [
    "# df.to_csv(\"products_cleaned.csv\", index=False)"
   ]
  },
  {
   "cell_type": "code",
   "execution_count": null,
   "metadata": {},
   "outputs": [],
   "source": []
  }
 ],
 "metadata": {
  "kernelspec": {
   "display_name": "Python 3",
   "language": "python",
   "name": "python3"
  },
  "language_info": {
   "codemirror_mode": {
    "name": "ipython",
    "version": 3
   },
   "file_extension": ".py",
   "mimetype": "text/x-python",
   "name": "python",
   "nbconvert_exporter": "python",
   "pygments_lexer": "ipython3",
   "version": "3.13.0"
  }
 },
 "nbformat": 4,
 "nbformat_minor": 2
}
